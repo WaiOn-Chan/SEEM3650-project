{
 "cells": [
  {
   "cell_type": "code",
   "execution_count": 1,
   "id": "4a728d79",
   "metadata": {},
   "outputs": [],
   "source": [
    "import numpy as np\n",
    "import pandas as pd\n",
    "import math\n",
    "import matplotlib.pyplot as plt\n",
    "\n",
    "from sklearn.metrics import mean_squared_error\n",
    "from sklearn.linear_model import LinearRegression\n",
    "from sklearn.preprocessing import PolynomialFeatures\n",
    "from sklearn.preprocessing import MinMaxScaler\n",
    "from sklearn.model_selection import KFold\n",
    "from sklearn.model_selection import train_test_split\n",
    "from sklearn.model_selection import cross_val_score"
   ]
  },
  {
   "cell_type": "code",
   "execution_count": 2,
   "id": "464fe58f",
   "metadata": {},
   "outputs": [
    {
     "data": {
      "text/html": [
       "<div>\n",
       "<style scoped>\n",
       "    .dataframe tbody tr th:only-of-type {\n",
       "        vertical-align: middle;\n",
       "    }\n",
       "\n",
       "    .dataframe tbody tr th {\n",
       "        vertical-align: top;\n",
       "    }\n",
       "\n",
       "    .dataframe thead th {\n",
       "        text-align: right;\n",
       "    }\n",
       "</style>\n",
       "<table border=\"1\" class=\"dataframe\">\n",
       "  <thead>\n",
       "    <tr style=\"text-align: right;\">\n",
       "      <th></th>\n",
       "      <th>Year</th>\n",
       "      <th>Month</th>\n",
       "      <th>Domestic</th>\n",
       "      <th>Commercial</th>\n",
       "      <th>Industrial</th>\n",
       "      <th>Total</th>\n",
       "      <th>Avg temp</th>\n",
       "      <th>Avg dew pt temp</th>\n",
       "      <th>Humidity(%)</th>\n",
       "    </tr>\n",
       "  </thead>\n",
       "  <tbody>\n",
       "    <tr>\n",
       "      <th>0</th>\n",
       "      <td>2012</td>\n",
       "      <td>1</td>\n",
       "      <td>2586</td>\n",
       "      <td>6983</td>\n",
       "      <td>780</td>\n",
       "      <td>10349</td>\n",
       "      <td>15.1</td>\n",
       "      <td>11.9</td>\n",
       "      <td>82</td>\n",
       "    </tr>\n",
       "    <tr>\n",
       "      <th>1</th>\n",
       "      <td>2012</td>\n",
       "      <td>2</td>\n",
       "      <td>2666</td>\n",
       "      <td>6507</td>\n",
       "      <td>809</td>\n",
       "      <td>9982</td>\n",
       "      <td>15.8</td>\n",
       "      <td>13.1</td>\n",
       "      <td>85</td>\n",
       "    </tr>\n",
       "    <tr>\n",
       "      <th>2</th>\n",
       "      <td>2012</td>\n",
       "      <td>3</td>\n",
       "      <td>2827</td>\n",
       "      <td>7294</td>\n",
       "      <td>868</td>\n",
       "      <td>10989</td>\n",
       "      <td>19.0</td>\n",
       "      <td>15.8</td>\n",
       "      <td>83</td>\n",
       "    </tr>\n",
       "    <tr>\n",
       "      <th>3</th>\n",
       "      <td>2012</td>\n",
       "      <td>4</td>\n",
       "      <td>2753</td>\n",
       "      <td>7921</td>\n",
       "      <td>910</td>\n",
       "      <td>11584</td>\n",
       "      <td>23.9</td>\n",
       "      <td>21.2</td>\n",
       "      <td>85</td>\n",
       "    </tr>\n",
       "    <tr>\n",
       "      <th>4</th>\n",
       "      <td>2012</td>\n",
       "      <td>5</td>\n",
       "      <td>3862</td>\n",
       "      <td>9852</td>\n",
       "      <td>1047</td>\n",
       "      <td>14761</td>\n",
       "      <td>27.0</td>\n",
       "      <td>24.4</td>\n",
       "      <td>86</td>\n",
       "    </tr>\n",
       "    <tr>\n",
       "      <th>...</th>\n",
       "      <td>...</td>\n",
       "      <td>...</td>\n",
       "      <td>...</td>\n",
       "      <td>...</td>\n",
       "      <td>...</td>\n",
       "      <td>...</td>\n",
       "      <td>...</td>\n",
       "      <td>...</td>\n",
       "      <td>...</td>\n",
       "    </tr>\n",
       "    <tr>\n",
       "      <th>115</th>\n",
       "      <td>2021</td>\n",
       "      <td>8</td>\n",
       "      <td>5453</td>\n",
       "      <td>10459</td>\n",
       "      <td>1033</td>\n",
       "      <td>16945</td>\n",
       "      <td>28.8</td>\n",
       "      <td>25.4</td>\n",
       "      <td>83</td>\n",
       "    </tr>\n",
       "    <tr>\n",
       "      <th>116</th>\n",
       "      <td>2021</td>\n",
       "      <td>9</td>\n",
       "      <td>5686</td>\n",
       "      <td>10246</td>\n",
       "      <td>1036</td>\n",
       "      <td>16968</td>\n",
       "      <td>29.7</td>\n",
       "      <td>25.4</td>\n",
       "      <td>78</td>\n",
       "    </tr>\n",
       "    <tr>\n",
       "      <th>117</th>\n",
       "      <td>2021</td>\n",
       "      <td>10</td>\n",
       "      <td>3850</td>\n",
       "      <td>9231</td>\n",
       "      <td>907</td>\n",
       "      <td>13988</td>\n",
       "      <td>26.0</td>\n",
       "      <td>21.4</td>\n",
       "      <td>76</td>\n",
       "    </tr>\n",
       "    <tr>\n",
       "      <th>118</th>\n",
       "      <td>2021</td>\n",
       "      <td>11</td>\n",
       "      <td>3098</td>\n",
       "      <td>7615</td>\n",
       "      <td>760</td>\n",
       "      <td>11473</td>\n",
       "      <td>22.4</td>\n",
       "      <td>15.8</td>\n",
       "      <td>67</td>\n",
       "    </tr>\n",
       "    <tr>\n",
       "      <th>119</th>\n",
       "      <td>2021</td>\n",
       "      <td>12</td>\n",
       "      <td>2509</td>\n",
       "      <td>7666</td>\n",
       "      <td>881</td>\n",
       "      <td>11056</td>\n",
       "      <td>18.9</td>\n",
       "      <td>12.6</td>\n",
       "      <td>68</td>\n",
       "    </tr>\n",
       "  </tbody>\n",
       "</table>\n",
       "<p>120 rows × 9 columns</p>\n",
       "</div>"
      ],
      "text/plain": [
       "     Year  Month  Domestic  Commercial  Industrial  Total  Avg temp  \\\n",
       "0    2012      1      2586        6983         780  10349      15.1   \n",
       "1    2012      2      2666        6507         809   9982      15.8   \n",
       "2    2012      3      2827        7294         868  10989      19.0   \n",
       "3    2012      4      2753        7921         910  11584      23.9   \n",
       "4    2012      5      3862        9852        1047  14761      27.0   \n",
       "..    ...    ...       ...         ...         ...    ...       ...   \n",
       "115  2021      8      5453       10459        1033  16945      28.8   \n",
       "116  2021      9      5686       10246        1036  16968      29.7   \n",
       "117  2021     10      3850        9231         907  13988      26.0   \n",
       "118  2021     11      3098        7615         760  11473      22.4   \n",
       "119  2021     12      2509        7666         881  11056      18.9   \n",
       "\n",
       "     Avg dew pt temp  Humidity(%)  \n",
       "0               11.9           82  \n",
       "1               13.1           85  \n",
       "2               15.8           83  \n",
       "3               21.2           85  \n",
       "4               24.4           86  \n",
       "..               ...          ...  \n",
       "115             25.4           83  \n",
       "116             25.4           78  \n",
       "117             21.4           76  \n",
       "118             15.8           67  \n",
       "119             12.6           68  \n",
       "\n",
       "[120 rows x 9 columns]"
      ]
     },
     "execution_count": 2,
     "metadata": {},
     "output_type": "execute_result"
    }
   ],
   "source": [
    "df = pd.read_csv('electricity consumption.csv')\n",
    "df"
   ]
  },
  {
   "cell_type": "code",
   "execution_count": 3,
   "id": "2a43927c",
   "metadata": {},
   "outputs": [],
   "source": [
    "el = np.array(df['Total']).reshape(-1, 1)\n",
    "month = np.array(df['Month']).reshape(-1, 1)\n",
    "temp = np.array(df['Avg temp']).reshape(-1, 1)\n",
    "dtemp = np.array(df['Avg dew pt temp']).reshape(-1, 1)\n",
    "hu = np.array(df['Humidity(%)']).reshape(-1, 1)"
   ]
  },
  {
   "cell_type": "markdown",
   "id": "f90c8dd0",
   "metadata": {},
   "source": [
    "# A scatter plot to represent the relationship between the rescaled months (x) and the rescaled electricity consumption (y)"
   ]
  },
  {
   "cell_type": "code",
   "execution_count": 4,
   "id": "a5c4e777",
   "metadata": {
    "scrolled": true
   },
   "outputs": [
    {
     "data": {
      "image/png": "[encoded data removed]",
      "text/plain": [
       "<Figure size 640x480 with 1 Axes>"
      ]
     },
     "metadata": {},
     "output_type": "display_data"
    }
   ],
   "source": [
    "scaler = MinMaxScaler()\n",
    "month1 = scaler.fit_transform(month)\n",
    "Y = scaler.fit_transform(el)\n",
    "\n",
    "plt.scatter(month1, Y)\n",
    "\n",
    "plt.xlabel(\"Months from 2012 to 2021\")\n",
    "plt.ylabel(\"Electricity consumption from 2012 to 2021\")\n",
    "plt.xlim((0, 1))\n",
    "plt.show()"
   ]
  },
  {
   "cell_type": "markdown",
   "id": "65ed9da3",
   "metadata": {},
   "source": [
    "# A scatter plot to represent the relationship between the rescaled average temperature (x) and the rescaled electricity consumption (y)"
   ]
  },
  {
   "cell_type": "code",
   "execution_count": 5,
   "id": "60810202",
   "metadata": {},
   "outputs": [
    {
     "data": {
      "image/png": "[encoded data removed]",
      "text/plain": [
       "<Figure size 640x480 with 1 Axes>"
      ]
     },
     "metadata": {},
     "output_type": "display_data"
    }
   ],
   "source": [
    "scaler = MinMaxScaler()\n",
    "temp1 = scaler.fit_transform(temp)\n",
    "Y = scaler.fit_transform(el)\n",
    "\n",
    "\n",
    "plt.scatter(temp1, Y)\n",
    "\n",
    "plt.xlabel(\"Average Temperature\")\n",
    "plt.ylabel(\"Electricity consumption from 2012 to 2021\")\n",
    "plt.xlim((0, 1))\n",
    "plt.show()"
   ]
  },
  {
   "cell_type": "markdown",
   "id": "6fb05daf",
   "metadata": {},
   "source": [
    "# A scatter plot to represent the relationship between the rescaled average dew point temperature (x) and the rescaled electricity consumption (y)"
   ]
  },
  {
   "cell_type": "code",
   "execution_count": 6,
   "id": "bae2172c",
   "metadata": {},
   "outputs": [
    {
     "data": {
      "image/png": "[encoded data removed]",
      "text/plain": [
       "<Figure size 640x480 with 1 Axes>"
      ]
     },
     "metadata": {},
     "output_type": "display_data"
    }
   ],
   "source": [
    "scaler = MinMaxScaler()\n",
    "dtemp1 = scaler.fit_transform(dtemp)\n",
    "Y = scaler.fit_transform(el)\n",
    "\n",
    "\n",
    "plt.scatter(dtemp1, Y)\n",
    "\n",
    "plt.xlabel(\"Average dew pt Temperature\")\n",
    "plt.ylabel(\"Electricity consumption from 2012 to 2021\")\n",
    "plt.xlim((0, 1))\n",
    "plt.show()"
   ]
  },
  {
   "cell_type": "markdown",
   "id": "a6138074",
   "metadata": {},
   "source": [
    "# A scatter plot to represent the relationship between the rescaled months (x) and the rescaled electricity consumption (y)"
   ]
  },
  {
   "cell_type": "code",
   "execution_count": 7,
   "id": "add380aa",
   "metadata": {},
   "outputs": [
    {
     "data": {
      "image/png": "[encoded data removed]",
      "text/plain": [
       "<Figure size 640x480 with 1 Axes>"
      ]
     },
     "metadata": {},
     "output_type": "display_data"
    }
   ],
   "source": [
    "scaler = MinMaxScaler()\n",
    "hu1 = hu/100\n",
    "Y = scaler.fit_transform(el)\n",
    "\n",
    "\n",
    "plt.scatter(hu1, Y)\n",
    "\n",
    "plt.xlabel(\"Humidity\")\n",
    "plt.ylabel(\"Electricity consumption from 2012 to 2021\")\n",
    "plt.xlim((0, 1))\n",
    "plt.show()"
   ]
  },
  {
   "cell_type": "markdown",
   "id": "074279ff",
   "metadata": {},
   "source": [
    "# Here I will use the months, the temperature, the dew point temperature and the humidity as the independant variables x\n",
    "## Then group them into a 120x4 matrix"
   ]
  },
  {
   "cell_type": "code",
   "execution_count": 8,
   "id": "f8ea9eff",
   "metadata": {},
   "outputs": [
    {
     "name": "stdout",
     "output_type": "stream",
     "text": [
      "120 4.0\n",
      "[[ 1.  15.1 11.9 82. ]\n",
      " [ 2.  15.8 13.1 85. ]\n",
      " [ 3.  19.  15.8 83. ]\n",
      " [ 4.  23.9 21.2 85. ]\n",
      " [ 5.  27.  24.4 86. ]\n",
      " [ 6.  28.1 25.  83. ]\n",
      " [ 7.  28.8 25.2 81. ]\n",
      " [ 8.  29.5 24.9 77. ]\n",
      " [ 9.  28.  23.  75. ]\n",
      " [10.  25.6 20.4 74. ]\n",
      " [11.  22.2 18.7 81. ]\n",
      " [12.  17.8 13.8 78. ]\n",
      " [ 1.  16.7 11.3 71. ]\n",
      " [ 2.  19.1 15.4 80. ]\n",
      " [ 3.  20.5 16.5 79. ]\n",
      " [ 4.  21.5 19.  86. ]\n",
      " [ 5.  25.7 23.2 86. ]\n",
      " [ 6.  28.2 25.1 84. ]\n",
      " [ 7.  28.  25.1 85. ]\n",
      " [ 8.  28.6 25.3 83. ]\n",
      " [ 9.  27.5 23.9 82. ]\n",
      " [10.  25.7 18.6 66. ]\n",
      " [11.  21.7 16.2 72. ]\n",
      " [12.  16.1  8.6 63. ]\n",
      " [ 1.  16.3  9.9 67. ]\n",
      " [ 2.  15.5 12.3 82. ]\n",
      " [ 3.  18.7 15.7 83. ]\n",
      " [ 4.  22.6 20.  86. ]\n",
      " [ 5.  26.4 23.7 86. ]\n",
      " [ 6.  29.  25.  80. ]\n",
      " [ 7.  29.8 25.9 80. ]\n",
      " [ 8.  29.  25.3 81. ]\n",
      " [ 9.  29.  24.5 77. ]\n",
      " [10.  26.2 20.4 71. ]\n",
      " [11.  22.6 18.5 78. ]\n",
      " [12.  16.3  9.9 67. ]\n",
      " [ 1.  16.4 11.2 72. ]\n",
      " [ 2.  17.5 13.4 78. ]\n",
      " [ 3.  19.9 17.1 85. ]\n",
      " [ 4.  23.6 19.2 77. ]\n",
      " [ 5.  27.5 24.5 85. ]\n",
      " [ 6.  29.7 25.7 80. ]\n",
      " [ 7.  29.1 25.  79. ]\n",
      " [ 8.  29.3 25.  78. ]\n",
      " [ 9.  28.4 24.1 78. ]\n",
      " [10.  26.  21.4 77. ]\n",
      " [11.  24.  20.  79. ]\n",
      " [12.  18.6 14.  76. ]\n",
      " [ 1.  16.  13.  83. ]\n",
      " [ 2.  15.5 10.4 74. ]\n",
      " [ 3.  17.5 14.5 84. ]\n",
      " [ 4.  23.6 21.6 89. ]\n",
      " [ 5.  26.7 23.6 83. ]\n",
      " [ 6.  29.4 25.8 82. ]\n",
      " [ 7.  29.8 25.7 79. ]\n",
      " [ 8.  28.4 25.2 84. ]\n",
      " [ 9.  27.9 23.9 79. ]\n",
      " [10.  26.8 22.9 80. ]\n",
      " [11.  22.3 18.3 79. ]\n",
      " [12.  19.6 13.9 70. ]\n",
      " [ 1.  18.5 14.7 79. ]\n",
      " [ 2.  17.  12.2 75. ]\n",
      " [ 3.  19.3 15.7 81. ]\n",
      " [ 4.  23.3 19.8 81. ]\n",
      " [ 5.  26.  22.5 82. ]\n",
      " [ 6.  28.8 25.6 83. ]\n",
      " [ 7.  28.7 25.5 83. ]\n",
      " [ 8.  29.3 25.3 80. ]\n",
      " [ 9.  29.  25.  80. ]\n",
      " [10.  26.3 20.4 71. ]\n",
      " [11.  22.2 17.6 76. ]\n",
      " [12.  17.8 11.2 66. ]\n",
      " [ 1.  16.1 11.7 77. ]\n",
      " [ 2.  16.  10.4 70. ]\n",
      " [ 3.  20.8 16.2 76. ]\n",
      " [ 4.  23.6 19.4 78. ]\n",
      " [ 5.  28.3 23.7 77. ]\n",
      " [ 6.  28.6 24.7 80. ]\n",
      " [ 7.  29.1 25.4 81. ]\n",
      " [ 8.  28.6 25.5 84. ]\n",
      " [ 9.  28.  23.7 78. ]\n",
      " [10.  25.3 18.7 69. ]\n",
      " [11.  22.9 18.6 78. ]\n",
      " [12.  19.2 14.8 76. ]\n",
      " [ 1.  18.1 13.7 76. ]\n",
      " [ 2.  20.1 17.5 85. ]\n",
      " [ 3.  21.  18.2 84. ]\n",
      " [ 4.  24.7 21.7 84. ]\n",
      " [ 5.  25.3 22.7 86. ]\n",
      " [ 6.  29.  25.7 83. ]\n",
      " [ 7.  29.5 25.9 81. ]\n",
      " [ 8.  29.  25.6 82. ]\n",
      " [ 9.  28.7 23.1 73. ]\n",
      " [10.  26.6 21.2 73. ]\n",
      " [11.  23.  16.8 69. ]\n",
      " [12.  19.1 12.9 69. ]\n",
      " [ 1.  18.6 14.  76. ]\n",
      " [ 2.  18.5 14.5 78. ]\n",
      " [ 3.  21.3 18.5 84. ]\n",
      " [ 4.  22.  17.7 78. ]\n",
      " [ 5.  27.7 24.5 83. ]\n",
      " [ 6.  29.6 25.4 79. ]\n",
      " [ 7.  30.2 25.5 76. ]\n",
      " [ 8.  29.  25.4 82. ]\n",
      " [ 9.  28.4 25.3 84. ]\n",
      " [10.  25.6 19.9 72. ]\n",
      " [11.  23.5 17.8 71. ]\n",
      " [12.  18.1 12.1 69. ]\n",
      " [ 1.  16.2  8.5 62. ]\n",
      " [ 2.  19.8 15.1 75. ]\n",
      " [ 3.  22.  18.  79. ]\n",
      " [ 4.  24.1 20.1 79. ]\n",
      " [ 5.  29.  24.7 78. ]\n",
      " [ 6.  28.8 25.4 82. ]\n",
      " [ 7.  29.7 25.8 80. ]\n",
      " [ 8.  28.8 25.4 83. ]\n",
      " [ 9.  29.7 25.4 78. ]\n",
      " [10.  26.  21.4 76. ]\n",
      " [11.  22.4 15.8 67. ]\n",
      " [12.  18.9 12.6 68. ]]\n"
     ]
    }
   ],
   "source": [
    "X = np.concatenate((month, temp, dtemp, hu), axis = 1)\n",
    "\n",
    "print(len(X), (X.size / len(X)))\n",
    "print(X)"
   ]
  },
  {
   "cell_type": "markdown",
   "id": "73fe8d48",
   "metadata": {},
   "source": [
    "# Linear Regression"
   ]
  },
  {
   "cell_type": "markdown",
   "id": "3a41a01b",
   "metadata": {},
   "source": [
    "## No transformation"
   ]
  },
  {
   "cell_type": "markdown",
   "id": "1ccd91f2",
   "metadata": {},
   "source": [
    "## Split and rescale the data, then fit a model and perform cross validation"
   ]
  },
  {
   "cell_type": "code",
   "execution_count": 9,
   "id": "ec69d99b",
   "metadata": {},
   "outputs": [
    {
     "name": "stdout",
     "output_type": "stream",
     "text": [
      "MSE:  [0.00853477 0.014299   0.01192372 0.02093978 0.01369451]\n",
      "Variance:  [0.90366366 0.8506119  0.8821686  0.84671716 0.82097415]\n",
      "Test MSE:  0.019488600679710155 \n",
      "\n",
      "MSE:  [0.01556125 0.00826831 0.0125176  0.0137756  0.0146768 ]\n",
      "Variance:  [0.83933412 0.85667979 0.86849049 0.83202989 0.85469049]\n",
      "Test MSE:  0.011858630889483092 \n",
      "\n",
      "MSE:  [0.01700465 0.01460414 0.01130284 0.01218176 0.0122216 ]\n",
      "Variance:  [0.87619427 0.86732615 0.88477188 0.88782984 0.86190177]\n",
      "Test MSE:  0.01312718010640145 \n",
      "\n",
      "MSE:  [0.0142595  0.01351427 0.01059776 0.01438161 0.01092597]\n",
      "Variance:  [0.87900241 0.88216283 0.8491895  0.86390286 0.83419318]\n",
      "Test MSE:  0.022982918794407337 \n",
      "\n",
      "MSE:  [0.00967572 0.00994416 0.00909657 0.0130955  0.01700888]\n",
      "Variance:  [0.90205889 0.89576179 0.8917449  0.84626391 0.82248097]\n",
      "Test MSE:  0.01853704664935059 \n",
      "\n"
     ]
    }
   ],
   "source": [
    "for seed in range(364, 369):\n",
    "    X_train, X_test, Y_train, Y_test = train_test_split(X, el, test_size = 0.2, random_state = seed)\n",
    "\n",
    "    X_train = scaler.fit_transform(X_train)\n",
    "    Y_train = scaler.fit_transform(Y_train)\n",
    "    \n",
    "    lr = LinearRegression()\n",
    "    lr.fit(X_train, Y_train)\n",
    "    \n",
    "    cv = KFold(n_splits = 5, shuffle = True, random_state = seed)\n",
    "    print('MSE: ', -cross_val_score(lr, X_train, Y_train, scoring = 'neg_mean_squared_error', cv = cv))\n",
    "    print('Variance: ', cross_val_score(lr, X_train, Y_train, scoring = 'explained_variance', cv = cv))\n",
    "    \n",
    "    X_test = scaler.fit_transform(X_test)\n",
    "    Y_test = scaler.fit_transform(Y_test)\n",
    "\n",
    "    print('Test MSE: ', mean_squared_error(Y_test, lr.predict(X_test)), '\\n')"
   ]
  },
  {
   "cell_type": "markdown",
   "id": "0d19466b",
   "metadata": {},
   "source": [
    "## Polynomial features of degree at most 2\n",
    "\n",
    "## Use PolynomialFeatures to generate all polynomial of degree at most 2 from the raw input $x$:"
   ]
  },
  {
   "cell_type": "code",
   "execution_count": 10,
   "id": "43d3a2da",
   "metadata": {
    "scrolled": true
   },
   "outputs": [
    {
     "name": "stdout",
     "output_type": "stream",
     "text": [
      "120 14.0\n"
     ]
    }
   ],
   "source": [
    "poly2 = PolynomialFeatures(degree = 2, include_bias = False)\n",
    "X2 = poly2.fit_transform(X)\n",
    "print(len(X2), (X2.size / len(X2)))"
   ]
  },
  {
   "cell_type": "markdown",
   "id": "02a5493f",
   "metadata": {},
   "source": [
    "## Split and rescale the data, then fit a model and perform cross validation"
   ]
  },
  {
   "cell_type": "code",
   "execution_count": 11,
   "id": "b04cf26b",
   "metadata": {},
   "outputs": [
    {
     "name": "stdout",
     "output_type": "stream",
     "text": [
      "MSE:  [0.0029741  0.00422146 0.00271733 0.0036356  0.00266522]\n",
      "Varience:  [0.96930525 0.95736528 0.97507825 0.96816803 0.9648773 ]\n",
      "Test MSE:  76.43537902178834 \n",
      "\n",
      "MSE:  [0.00371539 0.00211998 0.00263564 0.00203442 0.00299216]\n",
      "Varience:  [0.96056325 0.96679703 0.97475936 0.9755403  0.96765224]\n",
      "Test MSE:  3.9612587389463414 \n",
      "\n",
      "MSE:  [0.00281336 0.00429459 0.00279164 0.00439053 0.00367113]\n",
      "Varience:  [0.97385035 0.96064534 0.96989186 0.9598376  0.95485029]\n",
      "Test MSE:  47.92016424337536 \n",
      "\n",
      "MSE:  [0.0029831  0.00462319 0.00311199 0.00188426 0.00308706]\n",
      "Varience:  [0.97440861 0.96356336 0.95022204 0.98100993 0.96319548]\n",
      "Test MSE:  1.3187557087237254 \n",
      "\n",
      "MSE:  [0.00213809 0.00297518 0.00294031 0.0021821  0.00400915]\n",
      "Varience:  [0.97838564 0.96805274 0.96488219 0.97234276 0.95958505]\n",
      "Test MSE:  116.97640564150215 \n",
      "\n"
     ]
    }
   ],
   "source": [
    "for seed in range(364, 369):\n",
    "    X2_train, X2_test, Y2_train, Y2_test = train_test_split(X2, el, test_size = 0.2, random_state = seed)\n",
    "\n",
    "    X2_train = scaler.fit_transform(X2_train)\n",
    "    Y2_train = scaler.fit_transform(Y2_train)\n",
    "    \n",
    "    lr2 = LinearRegression()\n",
    "    lr2.fit(X2_train, Y2_train)\n",
    "    \n",
    "    cv = KFold(n_splits = 5, shuffle = True, random_state = seed)\n",
    "    print('MSE: ', -cross_val_score(lr2, X2_train, Y2_train, scoring = 'neg_mean_squared_error', cv = cv))\n",
    "    print('Varience: ', cross_val_score(lr2, X2_train, Y2_train, scoring = 'explained_variance', cv = cv))\n",
    "    \n",
    "    X2_test = scaler.fit_transform(X2_test)\n",
    "    Y2_test = scaler.fit_transform(Y2_test)\n",
    "\n",
    "    print('Test MSE: ', mean_squared_error(Y2_test, lr2.predict(X2_test)), '\\n')"
   ]
  },
  {
   "cell_type": "markdown",
   "id": "14fa0bf8",
   "metadata": {},
   "source": [
    "## Polynomial features of degree at most 3\n",
    "\n",
    "## Use PolynomialFeatures to generate all polynomial of degree at most 3 from the raw input $x$:"
   ]
  },
  {
   "cell_type": "code",
   "execution_count": 12,
   "id": "a82f91fb",
   "metadata": {
    "scrolled": true
   },
   "outputs": [
    {
     "name": "stdout",
     "output_type": "stream",
     "text": [
      "120 34.0\n"
     ]
    }
   ],
   "source": [
    "poly3 = PolynomialFeatures(degree = 3, include_bias = False)\n",
    "X3 = poly3.fit_transform(X)\n",
    "print(len(X3), (X3.size / len(X3)))"
   ]
  },
  {
   "cell_type": "markdown",
   "id": "5fb0bee0",
   "metadata": {},
   "source": [
    "## Split and rescale the data, then fit a model and perform cross validation"
   ]
  },
  {
   "cell_type": "code",
   "execution_count": 13,
   "id": "3bc765b2",
   "metadata": {},
   "outputs": [
    {
     "name": "stdout",
     "output_type": "stream",
     "text": [
      "MSE:  [0.00440177 0.0522802  0.00329351 0.01263238 0.00402967]\n",
      "Variance:  [0.95038589 0.39699054 0.96744667 0.8875134  0.94670481]\n",
      "Test MSE:  11781213.073245177 \n",
      "\n",
      "MSE:  [0.02899974 0.00258131 0.00186652 0.01797602 0.00423564]\n",
      "Variance:  [0.69732085 0.96367144 0.9829035  0.78359871 0.95417061]\n",
      "Test MSE:  139777.37712868841 \n",
      "\n",
      "MSE:  [0.01490282 0.00637151 0.00619079 0.00564354 0.01031954]\n",
      "Variance:  [0.85767125 0.94832996 0.93609136 0.94860063 0.87353858]\n",
      "Test MSE:  58209694.16403741 \n",
      "\n",
      "MSE:  [0.00637615 0.0089976  0.01103591 0.02364877 0.00964004]\n",
      "Variance:  [0.9428937  0.93334631 0.82823258 0.79090704 0.89285492]\n",
      "Test MSE:  8053017.884719652 \n",
      "\n",
      "MSE:  [0.03336388 0.00536757 0.00362516 0.00255749 0.01000881]\n",
      "Variance:  [0.65539482 0.94041038 0.96275143 0.97199623 0.89308054]\n",
      "Test MSE:  176811986.09072876 \n",
      "\n"
     ]
    }
   ],
   "source": [
    "for seed in range(364, 369):\n",
    "    X3_train, X3_test, Y3_train, Y3_test = train_test_split(X3, el, test_size = 0.2, random_state = seed)\n",
    "\n",
    "    X3_train = scaler.fit_transform(X3_train)\n",
    "    Y3_train = scaler.fit_transform(Y3_train)\n",
    "    \n",
    "    lr3 = LinearRegression()\n",
    "    lr3.fit(X3_train, Y3_train)\n",
    "    \n",
    "    cv = KFold(n_splits = 5, shuffle = True, random_state = seed)\n",
    "    print('MSE: ', -cross_val_score(lr3, X3_train, Y3_train, scoring = 'neg_mean_squared_error', cv = cv))\n",
    "    print('Variance: ', cross_val_score(lr3, X3_train, Y3_train, scoring = 'explained_variance', cv = cv))\n",
    "    \n",
    "    X3_test = scaler.fit_transform(X3_test)\n",
    "    Y3_test = scaler.fit_transform(Y3_test)\n",
    "\n",
    "    print('Test MSE: ', mean_squared_error(Y3_test, lr3.predict(X3_test)), '\\n')"
   ]
  },
  {
   "cell_type": "markdown",
   "id": "8f71944d",
   "metadata": {},
   "source": [
    "## Polynomial features of degree at most 10\n",
    "\n",
    "## Use PolynomialFeatures to generate all polynomial of degree at most 10 from the raw input $x$:"
   ]
  },
  {
   "cell_type": "code",
   "execution_count": 14,
   "id": "b8fbb781",
   "metadata": {
    "scrolled": true
   },
   "outputs": [
    {
     "name": "stdout",
     "output_type": "stream",
     "text": [
      "120 1000.0\n"
     ]
    }
   ],
   "source": [
    "poly10 = PolynomialFeatures(degree = 10, include_bias = False)\n",
    "X10 = poly10.fit_transform(X)\n",
    "print(len(X10), (X10.size / len(X10)))"
   ]
  },
  {
   "cell_type": "markdown",
   "id": "88129653",
   "metadata": {},
   "source": [
    "## Split and rescale the data, then fit a model and perform cross validation"
   ]
  },
  {
   "cell_type": "code",
   "execution_count": 15,
   "id": "8cb525a6",
   "metadata": {},
   "outputs": [
    {
     "name": "stdout",
     "output_type": "stream",
     "text": [
      "MSE:  [0.10228086 1.67897833 0.22774364 1.81198519 0.25454741]\n",
      "Varience:  [ -0.15246517 -18.54378883  -0.99882162 -15.10241219  -2.386243  ]\n",
      "Test MSE:  20761.438648544376 \n",
      "\n",
      "MSE:  [5.64917079 0.16265027 0.07458598 4.91904175 1.20591676]\n",
      "Varience:  [-60.1948473   -1.11973715   0.16891932 -60.06890739 -11.3158535 ]\n",
      "Test MSE:  259970.73807229273 \n",
      "\n",
      "MSE:  [2.40052402 0.32105659 0.98349134 0.73874592 3.49725343]\n",
      "Varience:  [-18.79943191  -1.94396569  -8.340472    -5.34687615 -41.78689806]\n",
      "Test MSE:  427739.3100347885 \n",
      "\n",
      "MSE:  [ 0.22245026  0.15143095  8.18284454  0.26584694 11.79664323]\n",
      "Varience:  [  -1.05146667   -0.52148858 -131.02724529   -1.41762031 -180.05535491]\n",
      "Test MSE:  663660.8914583911 \n",
      "\n",
      "MSE:  [0.50294319 4.2869823  0.47631598 1.25724228 0.39863445]\n",
      "Varience:  [ -4.25198724 -39.80961056  -3.99160784 -14.61092486  -3.36406171]\n",
      "Test MSE:  34732.75369999355 \n",
      "\n"
     ]
    }
   ],
   "source": [
    "for seed in range(364, 369):\n",
    "    X10_train, X10_test, Y10_train, Y10_test = train_test_split(X10, el, test_size = 0.2, random_state = seed)\n",
    "\n",
    "    X10_train = scaler.fit_transform(X10_train)\n",
    "    Y10_train = scaler.fit_transform(Y10_train)\n",
    "    \n",
    "    lr10 = LinearRegression()\n",
    "    lr10.fit(X10_train, Y10_train)\n",
    "    \n",
    "    cv = KFold(n_splits = 5, shuffle = True, random_state = seed)\n",
    "    print('MSE: ', -cross_val_score(lr10, X10_train, Y10_train, scoring = 'neg_mean_squared_error', cv = cv))\n",
    "    print('Varience: ', cross_val_score(lr10, X10_train, Y10_train, scoring = 'explained_variance', cv = cv))\n",
    "    \n",
    "    X10_test = scaler.fit_transform(X10_test)\n",
    "    Y10_test = scaler.fit_transform(Y10_test)\n",
    "\n",
    "    print('Test MSE: ', mean_squared_error(Y10_test, lr10.predict(X10_test)), '\\n')"
   ]
  },
  {
   "cell_type": "markdown",
   "id": "317e28b3",
   "metadata": {},
   "source": [
    "## From the above cases, we can see that using data with *no transfromation*  to train the model by linear regrassion perform better in predicting the data, so it is prefered"
   ]
  },
  {
   "cell_type": "markdown",
   "id": "15a1f5bf",
   "metadata": {},
   "source": [
    "# Decision Tree Regreesion"
   ]
  },
  {
   "cell_type": "code",
   "execution_count": 16,
   "id": "3db33db8",
   "metadata": {},
   "outputs": [],
   "source": [
    "import numpy as np\n",
    "from sklearn.tree import DecisionTreeRegressor\n",
    "import matplotlib.pyplot as plt"
   ]
  },
  {
   "cell_type": "markdown",
   "id": "ce54ca75",
   "metadata": {},
   "source": [
    "## No transformation"
   ]
  },
  {
   "cell_type": "code",
   "execution_count": 17,
   "id": "e08800b7",
   "metadata": {},
   "outputs": [
    {
     "name": "stdout",
     "output_type": "stream",
     "text": [
      "MSE:  [0.0108411  0.0223753  0.01364063 0.01830889 0.01397324]\n",
      "Variance:  [0.90044722 0.62411239 0.87341047 0.71400101 0.87597901]\n",
      "Test MSE:  0.02025476466882076 \n",
      "\n",
      "MSE:  [0.00884427 0.00880504 0.00804743 0.00609642 0.00892214]\n",
      "Variance:  [0.87779405 0.87946242 0.93187103 0.9158009  0.91566122]\n",
      "Test MSE:  0.006716525444789664 \n",
      "\n",
      "MSE:  [0.0046297  0.00678654 0.00579307 0.00477663 0.00468899]\n",
      "Variance:  [0.95686115 0.92434025 0.9127136  0.95507888 0.94658165]\n",
      "Test MSE:  0.0034733607985561964 \n",
      "\n",
      "MSE:  [0.0021264  0.00353675 0.00434405 0.00415038 0.00492648]\n",
      "Variance:  [0.97469726 0.95559022 0.956942   0.95951059 0.95721866]\n",
      "Test MSE:  0.0019420311446791637 \n",
      "\n",
      "MSE:  [0.00299244 0.00296384 0.00196924 0.00769279 0.00219591]\n",
      "Variance:  [0.97453826 0.97046384 0.95680268 0.93830062 0.97820056]\n",
      "Test MSE:  0.0018364618169640554 \n",
      "\n"
     ]
    }
   ],
   "source": [
    "X_train, X_test, Y_train, Y_test = train_test_split(X, el, test_size = 0.2, random_state = 0)\n",
    "\n",
    "X_train = scaler.fit_transform(X_train)\n",
    "Y_train = scaler.fit_transform(Y_train)\n",
    "\n",
    "for n in range(1, 6):\n",
    "    Tree_1 = DecisionTreeRegressor(max_depth = n)\n",
    "    Tree_1.fit(X_train, Y_train)\n",
    "\n",
    "    cv = KFold(n_splits = 5, shuffle = True, random_state = n)\n",
    "    \n",
    "    print('MSE: ', -cross_val_score(Tree_1, X_train, Y_train, scoring = 'neg_mean_squared_error', cv = cv))\n",
    "    print('Variance: ', cross_val_score(Tree_1, X_train, Y_train, scoring = 'explained_variance', cv = cv))\n",
    "\n",
    "    X_test = scaler.fit_transform(X_test)\n",
    "    Y_test = scaler.fit_transform(Y_test)\n",
    "\n",
    "    print('Test MSE: ', mean_squared_error(Y_test, Tree_1.predict(X_test)), '\\n')"
   ]
  },
  {
   "cell_type": "markdown",
   "id": "6e5bf776",
   "metadata": {},
   "source": [
    "## Polynomial features of degree at most 2"
   ]
  },
  {
   "cell_type": "code",
   "execution_count": 18,
   "id": "59c4c311",
   "metadata": {},
   "outputs": [
    {
     "name": "stdout",
     "output_type": "stream",
     "text": [
      "MSE:  [0.016576   0.02485032 0.01349026 0.0178784  0.01358589]\n",
      "Variance:  [0.88339275 0.60716701 0.8742524  0.71056124 0.87759394]\n",
      "Test MSE:  0.017490309343163746 \n",
      "\n",
      "MSE:  [0.01084153 0.00627982 0.00971003 0.00613237 0.00531906]\n",
      "Variance:  [0.85209536 0.91915302 0.91704315 0.9286545  0.95317368]\n",
      "Test MSE:  0.007181343096896618 \n",
      "\n",
      "MSE:  [0.00435092 0.00653244 0.00376786 0.00287894 0.00751016]\n",
      "Variance:  [0.95889815 0.94550666 0.94496691 0.97432293 0.90613539]\n",
      "Test MSE:  0.0036597019884278396 \n",
      "\n",
      "MSE:  [0.00308418 0.00224023 0.00329088 0.00310325 0.00615977]\n",
      "Variance:  [0.97035001 0.97280788 0.98119999 0.9759227  0.94415997]\n",
      "Test MSE:  0.0036371751404817177 \n",
      "\n",
      "MSE:  [0.00241112 0.00304898 0.00173694 0.00676186 0.00250054]\n",
      "Variance:  [0.97210618 0.97001267 0.94706136 0.94006618 0.97138065]\n",
      "Test MSE:  0.0027810667716074663 \n",
      "\n"
     ]
    }
   ],
   "source": [
    "X2_train, X2_test, Y2_train, Y2_test = train_test_split(X2, el, test_size = 0.2, random_state = 0)\n",
    "\n",
    "X2_train = scaler.fit_transform(X2_train)\n",
    "Y2_train = scaler.fit_transform(Y2_train)\n",
    "\n",
    "for n in range(1, 6):\n",
    "    Tree_2 = DecisionTreeRegressor(max_depth = n)\n",
    "    Tree_2.fit(X2_train, Y2_train)\n",
    "\n",
    "\n",
    "    cv = KFold(n_splits = 5, shuffle = True, random_state = n)\n",
    "    print('MSE: ', -cross_val_score(Tree_2, X2_train, Y2_train, scoring = 'neg_mean_squared_error', cv = cv))\n",
    "    print('Variance: ', cross_val_score(Tree_2, X2_train, Y2_train, scoring = 'explained_variance', cv = cv))\n",
    "\n",
    "    X2_test = scaler.fit_transform(X2_test)\n",
    "    Y2_test = scaler.fit_transform(Y2_test)\n",
    "\n",
    "    print('Test MSE: ', mean_squared_error(Y2_test, Tree_2.predict(X2_test)), '\\n')"
   ]
  },
  {
   "cell_type": "markdown",
   "id": "a2390d00",
   "metadata": {},
   "source": [
    "## Polynomial features of degree at most 3"
   ]
  },
  {
   "cell_type": "code",
   "execution_count": 19,
   "id": "f6ab7a5f",
   "metadata": {},
   "outputs": [
    {
     "name": "stdout",
     "output_type": "stream",
     "text": [
      "MSE:  [0.016576   0.0223753  0.01349026 0.0178784  0.01358589]\n",
      "Variance:  [0.88339275 0.62411239 0.8742524  0.71056124 0.87759394]\n",
      "Test MSE:  0.016766485880319138 \n",
      "\n",
      "MSE:  [0.0114876  0.00627982 0.00971003 0.00613237 0.01033199]\n",
      "Variance:  [0.85929067 0.91915302 0.90640653 0.9286545  0.93995349]\n",
      "Test MSE:  0.0063490699851446245 \n",
      "\n",
      "MSE:  [0.00452751 0.00450829 0.00258218 0.00322778 0.00694034]\n",
      "Variance:  [0.9565415  0.94851162 0.94496691 0.97298836 0.91811547]\n",
      "Test MSE:  0.0041702325421033 \n",
      "\n",
      "MSE:  [0.00243202 0.00414026 0.00329088 0.00363456 0.00668608]\n",
      "Variance:  [0.96021878 0.95366348 0.9687121  0.96704585 0.92705415]\n",
      "Test MSE:  0.0035734874661728015 \n",
      "\n",
      "MSE:  [0.00244414 0.00182521 0.00407679 0.00664446 0.0023755 ]\n",
      "Variance:  [0.97245255 0.97961617 0.96276718 0.9483639  0.97337221]\n",
      "Test MSE:  0.0034615649104338107 \n",
      "\n"
     ]
    }
   ],
   "source": [
    "X3_train, X3_test, Y3_train, Y3_test = train_test_split(X3, el, test_size = 0.2, random_state = 0)\n",
    "\n",
    "X3_train = scaler.fit_transform(X3_train)\n",
    "Y3_train = scaler.fit_transform(Y3_train)\n",
    "\n",
    "for n in range(1, 6):\n",
    "    Tree_3 = DecisionTreeRegressor(max_depth = n)\n",
    "    Tree_3.fit(X3_train, Y3_train)\n",
    "\n",
    "\n",
    "    cv = KFold(n_splits = 5, shuffle = True, random_state = n)\n",
    "    print('MSE: ', -cross_val_score(Tree_3, X3_train, Y3_train, scoring = 'neg_mean_squared_error', cv = cv))\n",
    "    print('Variance: ', cross_val_score(Tree_3, X3_train, Y3_train, scoring = 'explained_variance', cv = cv))\n",
    "\n",
    "    X3_test = scaler.fit_transform(X3_test)\n",
    "    Y3_test = scaler.fit_transform(Y3_test)\n",
    "\n",
    "    print('Test MSE: ', mean_squared_error(Y3_test, Tree_3.predict(X3_test)), '\\n')"
   ]
  },
  {
   "cell_type": "markdown",
   "id": "08b1149a",
   "metadata": {},
   "source": [
    "## From the above 3 cases, we can see that the test MSE, the MSE and the varience in CV are medium when the depth of tree = 4, so we focus and compare the data in the case on the depth of tree = 4 "
   ]
  },
  {
   "cell_type": "code",
   "execution_count": 20,
   "id": "18c7222c",
   "metadata": {},
   "outputs": [
    {
     "name": "stdout",
     "output_type": "stream",
     "text": [
      "MSE_1:  [0.00510702 0.00361566 0.00219913 0.0051215  0.00224978]\n",
      "Variance_1:  [0.95633306 0.95791972 0.98230937 0.94960188 0.9833619 ]\n",
      "Test_MSE_1:  0.0019420311446791637 \n",
      "\n",
      "MSE_2:  [0.00206545 0.00208938 0.00195074 0.00480154 0.00230742]\n",
      "Variance_2:  [0.98256434 0.97631268 0.98486504 0.9674711  0.97191595]\n",
      "Test_MSE_2:  0.003463193597264264 \n",
      "\n",
      "MSE_3:  [0.00192211 0.00161563 0.00178583 0.00319545 0.00210104]\n",
      "Variance_3:  [0.96685226 0.98316342 0.96987041 0.96837471 0.98452137]\n",
      "Test_MSE_3:  0.002691003612472507 \n",
      "\n"
     ]
    }
   ],
   "source": [
    "Tree_1 = DecisionTreeRegressor(max_depth = 4)\n",
    "Tree_1.fit(X_train, Y_train)\n",
    "cv = KFold(n_splits = 5, shuffle = True, random_state = 0)\n",
    "print('MSE_1: ', -cross_val_score(Tree_1, X_train, Y_train, scoring = 'neg_mean_squared_error', cv = cv))\n",
    "print('Variance_1: ', cross_val_score(Tree_1, X_train, Y_train, scoring = 'explained_variance', cv = cv))\n",
    "X_test = scaler.fit_transform(X_test)\n",
    "Y_test = scaler.fit_transform(Y_test)\n",
    "print('Test_MSE_1: ', mean_squared_error(Y_test, Tree_1.predict(X_test)), '\\n')\n",
    "\n",
    "\n",
    "Tree_2 = DecisionTreeRegressor(max_depth = 4)\n",
    "Tree_2.fit(X2_train, Y2_train)\n",
    "cv = KFold(n_splits = 5, shuffle = True, random_state = 0)\n",
    "print('MSE_2: ', -cross_val_score(Tree_2, X2_train, Y2_train, scoring = 'neg_mean_squared_error', cv = cv))\n",
    "print('Variance_2: ', cross_val_score(Tree_2, X2_train, Y2_train, scoring = 'explained_variance', cv = cv))\n",
    "X2_test = scaler.fit_transform(X2_test)\n",
    "Y2_test = scaler.fit_transform(Y2_test)\n",
    "print('Test_MSE_2: ', mean_squared_error(Y2_test, Tree_2.predict(X2_test)), '\\n')\n",
    "\n",
    "\n",
    "Tree_3 = DecisionTreeRegressor(max_depth = 4)\n",
    "Tree_3.fit(X3_train, Y3_train)\n",
    "cv = KFold(n_splits = 5, shuffle = True, random_state = 0)\n",
    "print('MSE_3: ', -cross_val_score(Tree_3, X3_train, Y3_train, scoring = 'neg_mean_squared_error', cv = cv))\n",
    "print('Variance_3: ', cross_val_score(Tree_3, X3_train, Y3_train, scoring = 'explained_variance', cv = cv))\n",
    "X3_test = scaler.fit_transform(X3_test)\n",
    "Y3_test = scaler.fit_transform(Y3_test)\n",
    "print('Test_MSE_3: ', mean_squared_error(Y3_test, Tree_3.predict(X3_test)), '\\n')"
   ]
  },
  {
   "cell_type": "markdown",
   "id": "c1ec2579",
   "metadata": {},
   "source": [
    "## Since the 3 models give simillar results, according to Occam's razor, the model using data with *no transformation* will be prefered"
   ]
  },
  {
   "cell_type": "code",
   "execution_count": null,
   "id": "fc002610",
   "metadata": {},
   "outputs": [],
   "source": []
  }
 ],
 "metadata": {
  "kernelspec": {
   "display_name": "Python 3 (ipykernel)",
   "language": "python",
   "name": "python3"
  },
  "language_info": {
   "codemirror_mode": {
    "name": "ipython",
    "version": 3
   },
   "file_extension": ".py",
   "mimetype": "text/x-python",
   "name": "python",
   "nbconvert_exporter": "python",
   "pygments_lexer": "ipython3",
   "version": "3.10.9"
  }
 },
 "nbformat": 4,
 "nbformat_minor": 5
}
